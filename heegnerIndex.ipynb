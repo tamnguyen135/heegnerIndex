{
 "cells": [
  {
   "cell_type": "markdown",
   "id": "f8b976a7-ba5d-4767-8349-926e52321578",
   "metadata": {},
   "source": [
    "# Computing Heegner indices for rational elliptic curves with respect to a fixed imaginary quadratic field $K$"
   ]
  },
  {
   "cell_type": "markdown",
   "id": "3a62d031-88a4-4327-b6d4-d12b4d39e6ff",
   "metadata": {},
   "source": [
    "## 1. Computing Heegner indices is intensive in SageMath. The following code cells continually cache these computations for future querries."
   ]
  },
  {
   "cell_type": "code",
   "execution_count": 36,
   "id": "a7d7cab8-e581-4d82-bd86-be7eb4f1969d",
   "metadata": {},
   "outputs": [],
   "source": [
    "D = -7\n",
    "K = QuadraticField(D)\n",
    "# conductor range\n",
    "Nrange = range(1, 100)\n",
    "curves = []"
   ]
  },
  {
   "cell_type": "code",
   "execution_count": 37,
   "id": "91837d12-484e-4040-8ba7-e1ccca85744b",
   "metadata": {},
   "outputs": [],
   "source": [
    "import os\n",
    "fname = f'Heegner index statistics for D = {D}.csv'"
   ]
  },
  {
   "cell_type": "code",
   "execution_count": 43,
   "id": "784e0680-a564-49c4-9bc7-cef1f41b21ce",
   "metadata": {},
   "outputs": [],
   "source": [
    "import pandas as pd\n",
    "old = pd.DataFrame(columns = [\"Curve\", \"Heegner index\"])\n",
    "\n",
    "if os.path.exists(fname):\n",
    "    old = pd.read_csv(fname, index_col = False)\n",
    "    N = EllipticCurve(old[\"Curve\"].iloc[int(-1)]).conductor()\n",
    "    # this update interval can be modified, e.g. from N to N + N^2, N + log(N), etc.\n",
    "    Nrange = range(N, N + 2*int(sqrt(N)))"
   ]
  },
  {
   "cell_type": "code",
   "execution_count": 39,
   "id": "8485781e-7c9a-4c50-bc00-d3533ff9556f",
   "metadata": {},
   "outputs": [],
   "source": [
    "for E in cremona_curves(Nrange):\n",
    "    if E.satisfies_heegner_hypothesis(D):\n",
    "        curves.append(E)"
   ]
  },
  {
   "cell_type": "code",
   "execution_count": 40,
   "id": "f2b119e0-d2eb-4769-9a55-8d1f7fcf41de",
   "metadata": {},
   "outputs": [],
   "source": [
    "data = []\n",
    "for E in curves:\n",
    "    try:\n",
    "        I = E.heegner_index(D)\n",
    "        data.append({\"Curve\": str(E.label()), \"Heegner index\": I})\n",
    "    except:\n",
    "        pass   "
   ]
  },
  {
   "cell_type": "code",
   "execution_count": 41,
   "id": "09e8df07-2c11-4c56-bd1f-9035c2dcf656",
   "metadata": {},
   "outputs": [],
   "source": [
    "pd.concat([old, pd.DataFrame(data)], ignore_index=True).drop_duplicates().to_csv(fname, index=False)"
   ]
  },
  {
   "cell_type": "code",
   "execution_count": 51,
   "id": "54b2354b-27f3-4812-a8bc-e22b5276ab3c",
   "metadata": {},
   "outputs": [],
   "source": [
    "#TODO: try to automate execution in regular time intervals"
   ]
  },
  {
   "cell_type": "markdown",
   "id": "0c82ae34-427c-4e2f-92a1-7f2feaeb3cc0",
   "metadata": {},
   "source": [
    "## 2. An elliptic curve found using the cached table that satisifes desirable properties at the prime $p = 5$; featured in [this paper](https://tamnguyen135.github.io/publication/Galoiscoh)."
   ]
  },
  {
   "cell_type": "code",
   "execution_count": 44,
   "id": "f80b76fb-8a4d-4b02-a135-1503d1fe08d2",
   "metadata": {},
   "outputs": [],
   "source": [
    "E = EllipticCurve('1058d1')\n",
    "p = 5"
   ]
  },
  {
   "cell_type": "markdown",
   "id": "6b3ce06e-617d-417c-9e4b-dae591934b20",
   "metadata": {},
   "source": [
    "### 2.1. $p$ divides the Heegner index"
   ]
  },
  {
   "cell_type": "code",
   "execution_count": 56,
   "id": "7952539c-d38b-4747-992b-cc7e9680ddd1",
   "metadata": {},
   "outputs": [
    {
     "data": {
      "text/plain": [
       "True"
      ]
     },
     "execution_count": 56,
     "metadata": {},
     "output_type": "execute_result"
    }
   ],
   "source": [
    "int(E.heegner_index(D).center()) % p == 0"
   ]
  },
  {
   "cell_type": "markdown",
   "id": "4eb3e0f6-cf47-404f-8999-a200d2509bc3",
   "metadata": {},
   "source": [
    "### 2.2. $\\rho_{E, p}: G_\\mathbb{Q} \\rightarrow Aut(E_p)$ is surjective"
   ]
  },
  {
   "cell_type": "code",
   "execution_count": 49,
   "id": "1f752659-8c5f-4c6b-a468-2a595bde0898",
   "metadata": {},
   "outputs": [
    {
     "data": {
      "text/plain": [
       "True"
      ]
     },
     "execution_count": 49,
     "metadata": {},
     "output_type": "execute_result"
    }
   ],
   "source": [
    "E.galois_representation().is_surjective(p)"
   ]
  },
  {
   "cell_type": "markdown",
   "id": "70458dd3-2037-402b-9372-bdb6a9504c15",
   "metadata": {},
   "source": [
    "### 2.3. $p$ does not divide the Tamagawa product"
   ]
  },
  {
   "cell_type": "code",
   "execution_count": 57,
   "id": "4831c27a-38e1-46a7-94f7-fe8f64bfdf3c",
   "metadata": {},
   "outputs": [
    {
     "data": {
      "text/plain": [
       "True"
      ]
     },
     "execution_count": 57,
     "metadata": {},
     "output_type": "execute_result"
    }
   ],
   "source": [
    "E.tamagawa_product() % p != 0"
   ]
  },
  {
   "cell_type": "markdown",
   "id": "5d4c24b4-afca-4162-a803-9f7930a0675b",
   "metadata": {},
   "source": [
    "### 2.4. $a_p \\not \\equiv 0, \\pm 1 \\pmod{p}$"
   ]
  },
  {
   "cell_type": "code",
   "execution_count": 58,
   "id": "0953d568-e82c-4131-803a-4e9e64131366",
   "metadata": {},
   "outputs": [
    {
     "data": {
      "text/plain": [
       "True"
      ]
     },
     "execution_count": 58,
     "metadata": {},
     "output_type": "execute_result"
    }
   ],
   "source": [
    "(E.anlist(20)[p] % p) not in [0, 1, p - 1]"
   ]
  },
  {
   "cell_type": "markdown",
   "id": "72460dc8-0297-4392-adaa-1322c00aa8c8",
   "metadata": {},
   "source": [
    "## 3. Some interesting particular examples"
   ]
  },
  {
   "cell_type": "markdown",
   "id": "e967a1d5-ac73-4d3c-9b61-2216f977e924",
   "metadata": {},
   "source": [
    "### 3.1. An example where Sage computes the Heegner index incorrectly, computations via L-functions give 3/2 whereas the Heegner point is torsion."
   ]
  },
  {
   "cell_type": "code",
   "execution_count": 98,
   "id": "8c59ecf0-a303-47c9-9f82-f39979c4e46d",
   "metadata": {},
   "outputs": [
    {
     "data": {
      "text/plain": [
       "[(-2 : 0 : 1), (0 : 1 : 0)]"
      ]
     },
     "execution_count": 98,
     "metadata": {},
     "output_type": "execute_result"
    }
   ],
   "source": [
    "D = -7\n",
    "K = QuadraticField(D)\n",
    "E = EllipticCurve('212b2')\n",
    "E.heegner_index(D)\n",
    "E_K = E.change_ring(K)\n",
    "P = E_K.gens()[0]\n",
    "y_K = E.heegner_point(D).point_exact()\n",
    "E.torsion_points()"
   ]
  },
  {
   "cell_type": "markdown",
   "id": "e2afc5c7-92cc-46f2-b89c-4d3695af7a11",
   "metadata": {},
   "source": [
    "### 3.2. An example where Sage computes the Heegner index verifiably correctly with analytic methods"
   ]
  },
  {
   "cell_type": "code",
   "execution_count": 7,
   "id": "8db96f88-2246-4745-9433-534c11dc5114",
   "metadata": {},
   "outputs": [
    {
     "data": {
      "text/plain": [
       "(3/4 : -5/8 : 1)"
      ]
     },
     "execution_count": 7,
     "metadata": {},
     "output_type": "execute_result"
    }
   ],
   "source": [
    "E = EllipticCurve('326b1')\n",
    "K = QuadraticField(-31)\n",
    "K.class_number()\n",
    "K.primes_above(5)\n",
    "E.heegner_index(-31)\n",
    "E.tamagawa_product()\n",
    "E_K = E.change_ring(K)\n",
    "P = E_K.gens()[0]\n",
    "y_K = E.heegner_point(D, 1).point_exact()\n",
    "5 * P"
   ]
  }
 ],
 "metadata": {
  "kernelspec": {
   "display_name": "SageMath 9.5",
   "language": "sage",
   "name": "sagemath"
  },
  "language_info": {
   "codemirror_mode": {
    "name": "ipython",
    "version": 3
   },
   "file_extension": ".py",
   "mimetype": "text/x-python",
   "name": "python",
   "nbconvert_exporter": "python",
   "pygments_lexer": "ipython3",
   "version": "3.10.12"
  }
 },
 "nbformat": 4,
 "nbformat_minor": 5
}
